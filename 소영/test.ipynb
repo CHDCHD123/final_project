{
 "cells": [
  {
   "cell_type": "code",
   "execution_count": null,
   "id": "486edbad",
   "metadata": {},
   "outputs": [],
   "source": [
    "print(\"내가 누구게\")"
   ]
  }
 ],
 "metadata": {
  "language_info": {
   "name": "python"
  }
 },
 "nbformat": 4,
 "nbformat_minor": 5
}
